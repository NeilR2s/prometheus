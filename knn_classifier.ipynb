{
 "cells": [
  {
   "cell_type": "markdown",
   "id": "3272feef",
   "metadata": {},
   "source": [
    "**WARNING:**\n",
    "Since this is under development and not yet published, run this script at the root directory (*so there will be no import error*) for testing purposes. This will be patched in a future commit once a toml config file is setup, and this script will be moved to the examples directory."
   ]
  },
  {
   "cell_type": "code",
   "execution_count": 1,
   "id": "5d5935ca",
   "metadata": {},
   "outputs": [],
   "source": [
    "from prometheus.classical import knn_classifier"
   ]
  },
  {
   "cell_type": "code",
   "execution_count": 2,
   "id": "7809efb2",
   "metadata": {},
   "outputs": [],
   "source": [
    "model = knn_classifier.KNN_Classifier(k = 3, distance_metric=\"minkowski\")"
   ]
  },
  {
   "cell_type": "markdown",
   "id": "b98db627",
   "metadata": {},
   "source": [
    "_**fake data, will change to iris dataset once data loading functions are done**_"
   ]
  },
  {
   "cell_type": "code",
   "execution_count": null,
   "id": "345b18e0",
   "metadata": {},
   "outputs": [],
   "source": [
    "# Mockup Features SHirt sizes: [Height (cms), Weight (kgs)]\n",
    "\n",
    "X_data_raw = [\n",
    "    [160, 59], [160, 61], [160, 65],\n",
    "    [162, 61], [162, 62], [165, 62],\n",
    "    [165, 63], [162, 66], [165, 66],\n",
    "    [167, 63], [167, 64], [167, 67],\n",
    "    [170, 64], [170, 65], [170, 68],\n",
    "    [172, 64], [172, 66], [172, 69]\n",
    "]\n",
    "\n",
    "# Labels: Shirt Size\n",
    "y_data_raw_categorical = [\n",
    "    'S', 'S', 'S',\n",
    "    'S', 'S', 'S',\n",
    "    'S', 'M', 'M',\n",
    "    'M', 'M', 'M',\n",
    "    'M', 'M', 'M',\n",
    "    'M', 'M', 'M'\n",
    "]\n",
    "\n",
    "# temporary solution for now, will build an encoder function\n",
    "\n",
    "label_map = {'S': 0, 'M': 1}\n",
    "inverse_label_map = {v: k for k, v in label_map.items()}\n",
    "y_data_numerical = [label_map[label] for label in y_data_raw_categorical]\n",
    "\n",
    "X_train = X_data_raw\n",
    "y_train = y_data_numerical\n"
   ]
  },
  {
   "cell_type": "markdown",
   "id": "a5193324",
   "metadata": {},
   "source": [
    "_**model fitting time**_"
   ]
  },
  {
   "cell_type": "code",
   "execution_count": 4,
   "id": "4c0a9a83",
   "metadata": {},
   "outputs": [],
   "source": [
    "model.fit(X_train, y_train)"
   ]
  },
  {
   "cell_type": "code",
   "execution_count": 5,
   "id": "999dff99",
   "metadata": {},
   "outputs": [
    {
     "name": "stdout",
     "output_type": "stream",
     "text": [
      "raw_predictions: \n",
      "[0 1 1]\n",
      "Sample: [161, 60] => Predicted Shirt Size: S (Raw: 0)\n",
      "Sample: [166, 65] => Predicted Shirt Size: M (Raw: 1)\n",
      "Sample: [171, 67] => Predicted Shirt Size: M (Raw: 1)\n"
     ]
    }
   ],
   "source": [
    "\n",
    "\n",
    "X_test = [\n",
    "    [161, 60],  # Expected: S\n",
    "    [166, 65],  # Expected: M\n",
    "    [171, 67]   # Expected: M\n",
    "]\n",
    "raw_predictions = model.predict(X_test) \n",
    "print(f\"raw_predictions: \\n{raw_predictions}\")\n",
    "categorical_predictions = [inverse_label_map[pred.item()] for pred in list(raw_predictions)]\n",
    "for i, test_sample in enumerate(X_test):\n",
    "    print(f\"Sample: {test_sample} => Predicted Shirt Size: {categorical_predictions[i]} (Raw: {raw_predictions[i]})\")\n"
   ]
  }
 ],
 "metadata": {
  "kernelspec": {
   "display_name": "prometheus",
   "language": "python",
   "name": "python3"
  },
  "language_info": {
   "codemirror_mode": {
    "name": "ipython",
    "version": 3
   },
   "file_extension": ".py",
   "mimetype": "text/x-python",
   "name": "python",
   "nbconvert_exporter": "python",
   "pygments_lexer": "ipython3",
   "version": "3.12.9"
  }
 },
 "nbformat": 4,
 "nbformat_minor": 5
}
