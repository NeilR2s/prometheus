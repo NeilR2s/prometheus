{
 "cells": [
  {
   "cell_type": "code",
   "execution_count": 1,
   "id": "e464e796",
   "metadata": {},
   "outputs": [],
   "source": [
    "from prometheus.classical import knn_regression"
   ]
  },
  {
   "cell_type": "code",
   "execution_count": 2,
   "id": "d1f4fa9d",
   "metadata": {},
   "outputs": [],
   "source": [
    "model = knn_regression.KNN_Regression(k=2, distance_metric=\"minkowski\", minkowski_q=2)"
   ]
  },
  {
   "cell_type": "markdown",
   "id": "00be5b83",
   "metadata": {},
   "source": [
    "**Mockup Data**\n",
    "\n",
    "**X_train:** [house square feet, number of rooms]\\\n",
    "**y_train:** [prices in thousaands] "
   ]
  },
  {
   "cell_type": "code",
   "execution_count": 3,
   "id": "3ba37479",
   "metadata": {},
   "outputs": [],
   "source": [
    "X_train = [\n",
    "    [1400, 3],  \n",
    "    [1600, 3],\n",
    "    [1700, 3],\n",
    "    [890, 2],\n",
    "    [900, 2],\n",
    "    [1000, 2],\n",
    "    [2000, 4],\n",
    "    [2200, 4]\n",
    "]\n",
    "y_train = [250, 300, 320, 180, 185, 200, 400, 450]"
   ]
  },
  {
   "cell_type": "markdown",
   "id": "77cf6791",
   "metadata": {},
   "source": [
    "**we ball**"
   ]
  },
  {
   "cell_type": "code",
   "execution_count": 5,
   "id": "df4d2b02",
   "metadata": {},
   "outputs": [
    {
     "name": "stdout",
     "output_type": "stream",
     "text": [
      "Predicted price (thousands) [275.  192.5]\n"
     ]
    }
   ],
   "source": [
    "model.fit(X_train, y_train)\n",
    "\n",
    "X_test = [\n",
    "    [1550, 3],\n",
    "    [1100, 2]\n",
    "]\n",
    "\n",
    "predictions = model.predict(X_test)\n",
    "print(f\"Predicted price (thousands) {predictions}\")"
   ]
  }
 ],
 "metadata": {
  "kernelspec": {
   "display_name": "prometheus",
   "language": "python",
   "name": "python3"
  },
  "language_info": {
   "codemirror_mode": {
    "name": "ipython",
    "version": 3
   },
   "file_extension": ".py",
   "mimetype": "text/x-python",
   "name": "python",
   "nbconvert_exporter": "python",
   "pygments_lexer": "ipython3",
   "version": "3.12.9"
  }
 },
 "nbformat": 4,
 "nbformat_minor": 5
}
