{
 "cells": [
  {
   "cell_type": "code",
   "execution_count": 1,
   "id": "e464e796",
   "metadata": {},
   "outputs": [],
   "source": [
    "from prometheus.classical import knn_regression"
   ]
  },
  {
   "cell_type": "code",
   "execution_count": 2,
   "id": "d1f4fa9d",
   "metadata": {},
   "outputs": [],
   "source": [
    "model = knn_regression.KNN_Regression(k=2, distance_metric=\"minkowski\", minkowski_q=2)"
   ]
  },
  {
   "cell_type": "markdown",
   "id": "00be5b83",
   "metadata": {},
   "source": [
    "**Mockup Data**\n",
    "\n",
    "**X_train:** [house square feet, number of rooms]\\\n",
    "**y_train:** [prices in thousaands] "
   ]
  },
  {
   "cell_type": "code",
   "execution_count": 3,
   "id": "3ba37479",
   "metadata": {},
   "outputs": [],
   "source": [
    "X_train = [\n",
    "    [1400, 3],  \n",
    "    [1600, 3],\n",
    "    [1700, 3],\n",
    "    [890, 2],\n",
    "    [900, 2],\n",
    "    [1000, 2],\n",
    "    [2000, 4],\n",
    "    [2200, 4]\n",
    "]\n",
    "y_train = [250, 300, 320, 180, 185, 200, 400, 450]"
   ]
  },
  {
   "cell_type": "markdown",
   "id": "77cf6791",
   "metadata": {},
   "source": [
    "**we ball**"
   ]
  },
  {
   "cell_type": "code",
   "execution_count": 5,
   "id": "df4d2b02",
   "metadata": {},
   "outputs": [
    {
     "ename": "TypeError",
     "evalue": "Error interpreting argument to <function KNN_Regression.fit at 0x000001BF49604360> as an abstract array. The problematic value is of type <class 'prometheus.classical.knn_regression.KNN_Regression'> and was passed to the function at path self.\nThis typically means that a jit-wrapped function was called with a non-array argument, and this argument was not marked as static using the static_argnums or static_argnames parameters of jax.jit.",
     "output_type": "error",
     "traceback": [
      "\u001b[31m---------------------------------------------------------------------------\u001b[39m",
      "\u001b[31mTypeError\u001b[39m                                 Traceback (most recent call last)",
      "    \u001b[31m[... skipping hidden 1 frame]\u001b[39m\n",
      "\u001b[36mFile \u001b[39m\u001b[32mc:\\Users\\Neil\\anaconda3\\envs\\prometheus\\Lib\\site-packages\\jax\\_src\\api_util.py:604\u001b[39m, in \u001b[36mshaped_abstractify\u001b[39m\u001b[34m(x)\u001b[39m\n\u001b[32m    603\u001b[39m handler = _shaped_abstractify_handlers.get(\u001b[38;5;28mtype\u001b[39m(x), \u001b[38;5;28;01mNone\u001b[39;00m)\n\u001b[32m--> \u001b[39m\u001b[32m604\u001b[39m \u001b[38;5;28;01mreturn\u001b[39;00m handler(x) \u001b[38;5;28;01mif\u001b[39;00m handler \u001b[38;5;129;01mis\u001b[39;00m \u001b[38;5;129;01mnot\u001b[39;00m \u001b[38;5;28;01mNone\u001b[39;00m \u001b[38;5;28;01melse\u001b[39;00m _shaped_abstractify_slow(x)\n",
      "\u001b[36mFile \u001b[39m\u001b[32mc:\\Users\\Neil\\anaconda3\\envs\\prometheus\\Lib\\site-packages\\jax\\_src\\api_util.py:596\u001b[39m, in \u001b[36m_shaped_abstractify_slow\u001b[39m\u001b[34m(x)\u001b[39m\n\u001b[32m    595\u001b[39m \u001b[38;5;28;01melse\u001b[39;00m:\n\u001b[32m--> \u001b[39m\u001b[32m596\u001b[39m   \u001b[38;5;28;01mraise\u001b[39;00m \u001b[38;5;167;01mTypeError\u001b[39;00m(\n\u001b[32m    597\u001b[39m       \u001b[33mf\u001b[39m\u001b[33m\"\u001b[39m\u001b[33mCannot interpret value of type \u001b[39m\u001b[38;5;132;01m{\u001b[39;00m\u001b[38;5;28mtype\u001b[39m(x)\u001b[38;5;132;01m}\u001b[39;00m\u001b[33m as an abstract array; it \u001b[39m\u001b[33m\"\u001b[39m\n\u001b[32m    598\u001b[39m       \u001b[33m\"\u001b[39m\u001b[33mdoes not have a dtype attribute\u001b[39m\u001b[33m\"\u001b[39m)\n\u001b[32m    599\u001b[39m \u001b[38;5;28;01mreturn\u001b[39;00m core.ShapedArray(np.shape(x), dtype, weak_type=weak_type)\n",
      "\u001b[31mTypeError\u001b[39m: Cannot interpret value of type <class 'prometheus.classical.knn_regression.KNN_Regression'> as an abstract array; it does not have a dtype attribute",
      "\nThe above exception was the direct cause of the following exception:\n",
      "\u001b[31mTypeError\u001b[39m                                 Traceback (most recent call last)",
      "\u001b[36mCell\u001b[39m\u001b[36m \u001b[39m\u001b[32mIn[5]\u001b[39m\u001b[32m, line 1\u001b[39m\n\u001b[32m----> \u001b[39m\u001b[32m1\u001b[39m model.fit(X_train, y_train)\n\u001b[32m      3\u001b[39m X_test = [\n\u001b[32m      4\u001b[39m     [\u001b[32m1550\u001b[39m, \u001b[32m3\u001b[39m],\n\u001b[32m      5\u001b[39m     [\u001b[32m1100\u001b[39m, \u001b[32m2\u001b[39m]\n\u001b[32m      6\u001b[39m ]\n\u001b[32m      8\u001b[39m predictions = model.predict(X_test)\n",
      "    \u001b[31m[... skipping hidden 4 frame]\u001b[39m\n",
      "\u001b[36mFile \u001b[39m\u001b[32mc:\\Users\\Neil\\anaconda3\\envs\\prometheus\\Lib\\site-packages\\jax\\_src\\pjit.py:622\u001b[39m, in \u001b[36m_infer_params_impl\u001b[39m\u001b[34m(***failed resolving arguments***)\u001b[39m\n\u001b[32m    619\u001b[39m     \u001b[38;5;28;01mexcept\u001b[39;00m \u001b[38;5;167;01mTypeError\u001b[39;00m \u001b[38;5;28;01mas\u001b[39;00m e:\n\u001b[32m    620\u001b[39m       arg_description = (\u001b[33mf\u001b[39m\u001b[33m\"\u001b[39m\u001b[33mpath \u001b[39m\u001b[38;5;132;01m{\u001b[39;00mdbg.arg_names[i]\u001b[38;5;132;01m}\u001b[39;00m\u001b[33m\"\u001b[39m \u001b[38;5;28;01mif\u001b[39;00m dbg\n\u001b[32m    621\u001b[39m                          \u001b[38;5;28;01melse\u001b[39;00m \u001b[33mf\u001b[39m\u001b[33m\"\u001b[39m\u001b[33mflattened argument number \u001b[39m\u001b[38;5;132;01m{\u001b[39;00mi\u001b[38;5;132;01m}\u001b[39;00m\u001b[33m\"\u001b[39m)\n\u001b[32m--> \u001b[39m\u001b[32m622\u001b[39m       \u001b[38;5;28;01mraise\u001b[39;00m \u001b[38;5;167;01mTypeError\u001b[39;00m(\n\u001b[32m    623\u001b[39m         \u001b[33mf\u001b[39m\u001b[33m\"\u001b[39m\u001b[33mError interpreting argument to \u001b[39m\u001b[38;5;132;01m{\u001b[39;00mfun\u001b[38;5;132;01m}\u001b[39;00m\u001b[33m as an abstract array.\u001b[39m\u001b[33m\"\u001b[39m\n\u001b[32m    624\u001b[39m         \u001b[33mf\u001b[39m\u001b[33m\"\u001b[39m\u001b[33m The problematic value is of type \u001b[39m\u001b[38;5;132;01m{\u001b[39;00m\u001b[38;5;28mtype\u001b[39m(a)\u001b[38;5;132;01m}\u001b[39;00m\u001b[33m and was passed to\u001b[39m\u001b[33m\"\u001b[39m\n\u001b[32m    625\u001b[39m         \u001b[33mf\u001b[39m\u001b[33m\"\u001b[39m\u001b[33m the function at \u001b[39m\u001b[38;5;132;01m{\u001b[39;00marg_description\u001b[38;5;132;01m}\u001b[39;00m\u001b[33m.\u001b[39m\u001b[38;5;130;01m\\n\u001b[39;00m\u001b[33m\"\u001b[39m\n\u001b[32m    626\u001b[39m         \u001b[33m\"\u001b[39m\u001b[33mThis typically means that a jit-wrapped function was called with a non-array\u001b[39m\u001b[33m\"\u001b[39m\n\u001b[32m    627\u001b[39m         \u001b[33m\"\u001b[39m\u001b[33m argument, and this argument was not marked as static using the\u001b[39m\u001b[33m\"\u001b[39m\n\u001b[32m    628\u001b[39m         \u001b[33m\"\u001b[39m\u001b[33m static_argnums or static_argnames parameters of jax.jit.\u001b[39m\u001b[33m\"\u001b[39m\n\u001b[32m    629\u001b[39m       ) \u001b[38;5;28;01mfrom\u001b[39;00m\u001b[38;5;250m \u001b[39m\u001b[34;01me\u001b[39;00m\n\u001b[32m    631\u001b[39m   in_type = in_avals = \u001b[38;5;28mtuple\u001b[39m(avals)\n\u001b[32m    632\u001b[39m \u001b[38;5;28;01melse\u001b[39;00m:\n",
      "\u001b[31mTypeError\u001b[39m: Error interpreting argument to <function KNN_Regression.fit at 0x000001BF49604360> as an abstract array. The problematic value is of type <class 'prometheus.classical.knn_regression.KNN_Regression'> and was passed to the function at path self.\nThis typically means that a jit-wrapped function was called with a non-array argument, and this argument was not marked as static using the static_argnums or static_argnames parameters of jax.jit."
     ]
    }
   ],
   "source": [
    "model.fit(X_train, y_train)\n",
    "\n",
    "X_test = [\n",
    "    [1550, 3],\n",
    "    [1100, 2]\n",
    "]\n",
    "\n",
    "predictions = model.predict(X_test)\n",
    "print(f\"Predicted price (thousands) {predictions}\")"
   ]
  }
 ],
 "metadata": {
  "kernelspec": {
   "display_name": "prometheus",
   "language": "python",
   "name": "python3"
  },
  "language_info": {
   "codemirror_mode": {
    "name": "ipython",
    "version": 3
   },
   "file_extension": ".py",
   "mimetype": "text/x-python",
   "name": "python",
   "nbconvert_exporter": "python",
   "pygments_lexer": "ipython3",
   "version": "3.12.9"
  }
 },
 "nbformat": 4,
 "nbformat_minor": 5
}
